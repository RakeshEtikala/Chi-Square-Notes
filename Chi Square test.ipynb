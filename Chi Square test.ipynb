{
 "cells": [
  {
   "cell_type": "code",
   "execution_count": 1,
   "id": "4fefc182-91ff-48b9-bd30-1b34b7a04dcb",
   "metadata": {},
   "outputs": [],
   "source": [
    "import scipy.stats as stat"
   ]
  },
  {
   "cell_type": "code",
   "execution_count": 2,
   "id": "60eaa9c3-ebe8-4ac1-9f55-221d16ef7553",
   "metadata": {},
   "outputs": [],
   "source": [
    "import numpy as np"
   ]
  },
  {
   "cell_type": "code",
   "execution_count": 3,
   "id": "19ab8693-7398-4275-9cd6-339235832ced",
   "metadata": {},
   "outputs": [],
   "source": [
    "## No of hours student study dialy in weekly basis"
   ]
  },
  {
   "cell_type": "code",
   "execution_count": 4,
   "id": "ecad7476-0530-4505-8a7b-4841d0f03892",
   "metadata": {},
   "outputs": [],
   "source": [
    "expected_data = [8,6,7,9,6,9,7]\n",
    "observed_data = [7,8,6,9,9,6,7]"
   ]
  },
  {
   "cell_type": "code",
   "execution_count": 7,
   "id": "a463e1dd-095c-4f2b-9091-212723b209e8",
   "metadata": {},
   "outputs": [
    {
     "data": {
      "text/plain": [
       "(52, 52)"
      ]
     },
     "execution_count": 7,
     "metadata": {},
     "output_type": "execute_result"
    }
   ],
   "source": [
    "sum(expected_data), sum(observed_data)"
   ]
  },
  {
   "cell_type": "code",
   "execution_count": 10,
   "id": "17346901-be8e-4597-8e62-145156d79f32",
   "metadata": {},
   "outputs": [],
   "source": [
    "## Chi square goodness of fit \n",
    "chisquare_test_statistics_value, p_value = stat.chisquare(observed_data, expected_data)"
   ]
  },
  {
   "cell_type": "code",
   "execution_count": 11,
   "id": "0626cb38-7386-4aff-917d-5a87a5a8555e",
   "metadata": {},
   "outputs": [
    {
     "name": "stdout",
     "output_type": "stream",
     "text": [
      "3.4345238095238093\n",
      "0.7526596580922865\n"
     ]
    },
    {
     "data": {
      "text/plain": [
       "(None, None)"
      ]
     },
     "execution_count": 11,
     "metadata": {},
     "output_type": "execute_result"
    }
   ],
   "source": [
    "print(chisquare_test_statistics_value),print(p_value)"
   ]
  },
  {
   "cell_type": "code",
   "execution_count": 15,
   "id": "3773a18e-15ec-4a00-b716-d0b163db6f63",
   "metadata": {},
   "outputs": [],
   "source": [
    "## Find the critical value\n",
    "significance_value = 0.05\n",
    "dof= len(observed_data)-1\n",
    "critical_value=stat.chi2.ppf(1-significance_value,dof)"
   ]
  },
  {
   "cell_type": "code",
   "execution_count": 16,
   "id": "825b7aa8-6a11-4108-bcb4-dc3ad9b97588",
   "metadata": {},
   "outputs": [
    {
     "name": "stdout",
     "output_type": "stream",
     "text": [
      "12.591587243743977\n"
     ]
    }
   ],
   "source": [
    "print(critical_value)"
   ]
  },
  {
   "cell_type": "code",
   "execution_count": 17,
   "id": "fd55df95-f6c4-4216-a36b-5b37142ee23e",
   "metadata": {},
   "outputs": [
    {
     "name": "stdout",
     "output_type": "stream",
     "text": [
      "Accept the null hypothesis\n"
     ]
    }
   ],
   "source": [
    "if chisquare_test_statistics_value > critical_value:\n",
    "    print(\"Reject the null hypothesis\")\n",
    "else:\n",
    "    print(\"Accept the null hypothesis\")"
   ]
  },
  {
   "cell_type": "code",
   "execution_count": null,
   "id": "877f9660-d681-48d5-86e4-4cac4efa6e3e",
   "metadata": {},
   "outputs": [],
   "source": []
  }
 ],
 "metadata": {
  "kernelspec": {
   "display_name": "Python 3 (ipykernel)",
   "language": "python",
   "name": "python3"
  },
  "language_info": {
   "codemirror_mode": {
    "name": "ipython",
    "version": 3
   },
   "file_extension": ".py",
   "mimetype": "text/x-python",
   "name": "python",
   "nbconvert_exporter": "python",
   "pygments_lexer": "ipython3",
   "version": "3.10.8"
  }
 },
 "nbformat": 4,
 "nbformat_minor": 5
}
